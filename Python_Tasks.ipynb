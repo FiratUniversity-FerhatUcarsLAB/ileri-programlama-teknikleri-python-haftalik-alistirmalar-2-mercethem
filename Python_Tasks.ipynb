{
  "cells": [
    {
      "cell_type": "markdown",
      "id": "e2abb239",
      "metadata": {
        "id": "e2abb239"
      },
      "source": [
        "# YMH220 - İleri Programlama Teknikleri\n",
        "## Python Egzersizleri\n",
        "\n",
        "### İsim: Ethem Merç\n",
        "### Öğrenci No: 220541022 (Gündüz - B) (Alttan)\n",
        "### Tarih: 11/04/2025\n"
      ]
    },
    {
      "cell_type": "markdown",
      "id": "570c2a05",
      "metadata": {
        "id": "570c2a05"
      },
      "source": [
        "# Soru 1\n",
        "### Verilen bir tam sayının asal sayı olup olmadığını belirleyen `asal_mi` isimli Python fonksiyonunu yazınız.\n",
        "\n",
        "### Fonksiyonunuzu test edin\n",
        "```python\n",
        "print(asal_mi(11))  # Beklenen çıktı: True\n",
        "print(asal_mi(15))  # Beklenen çıktı: False\n",
        "```"
      ]
    },
    {
      "cell_type": "code",
      "execution_count": 17,
      "id": "72806d01",
      "metadata": {
        "colab": {
          "base_uri": "https://localhost:8080/"
        },
        "id": "72806d01",
        "outputId": "f9e95e08-ca18-46f9-cda1-caaf2394de53"
      },
      "outputs": [
        {
          "output_type": "stream",
          "name": "stdout",
          "text": [
            "True\n",
            "False\n"
          ]
        }
      ],
      "source": [
        "def asal_mi(n):\n",
        "    if n < 2:\n",
        "        return False\n",
        "    for i in range(2, int(n**0.5) + 1):\n",
        "        if n % i == 0:\n",
        "            return False\n",
        "    return True\n",
        "\n",
        "print(asal_mi(11))  # Beklenen çıktı: True\n",
        "print(asal_mi(15))  # Beklenen çıktı: False"
      ]
    },
    {
      "cell_type": "markdown",
      "id": "2c5e4bd9",
      "metadata": {
        "id": "2c5e4bd9"
      },
      "source": [
        "# Soru 2\n",
        "### İki tam sayının en büyük ortak bölenini (EBOB) Öklid algoritması ile hesaplayan `ebob` isimli Python fonksiyonunu yazınız.\n",
        "\n",
        "### Fonksiyonunuzu test edin\n",
        "```python\n",
        "print(ebob(48, 18))  # Beklenen çıktı: 6\n",
        "print(ebob(100, 25))  # Beklenen çıktı: 25\n",
        "```"
      ]
    },
    {
      "cell_type": "code",
      "execution_count": 18,
      "id": "e4c8987e",
      "metadata": {
        "colab": {
          "base_uri": "https://localhost:8080/"
        },
        "id": "e4c8987e",
        "outputId": "2e6389c7-f98b-45d7-c23c-0f23bf554cbd"
      },
      "outputs": [
        {
          "output_type": "stream",
          "name": "stdout",
          "text": [
            "6\n",
            "25\n"
          ]
        }
      ],
      "source": [
        "def ebob(a, b):\n",
        "    while b != 0:\n",
        "        a, b = b, a % b\n",
        "    return abs(a)\n",
        "\n",
        "print(ebob(48, 18))  # Beklenen çıktı: 6\n",
        "print(ebob(100, 25))  # Beklenen çıktı: 25"
      ]
    },
    {
      "cell_type": "markdown",
      "id": "499fd7b4",
      "metadata": {
        "id": "499fd7b4"
      },
      "source": [
        "# Soru 3\n",
        "### Verilen bir metindeki sesli harflerin (a, e, ı, i, o, ö, u, ü) sayısını hesaplayarak döndüren `sesli_harf_sayisi` fonksiyonunu yazınız.\n",
        "\n",
        "### Fonksiyonunuzu test edin\n",
        "```python\n",
        "print(sesli_harf_sayisi(\"programlama\"))  # Beklenen çıktı: 4\n",
        "print(sesli_harf_sayisi(\"algoritma\"))  # Beklenen çıktı: 4\n",
        "```"
      ]
    },
    {
      "cell_type": "code",
      "execution_count": 19,
      "id": "5488e486",
      "metadata": {
        "colab": {
          "base_uri": "https://localhost:8080/"
        },
        "id": "5488e486",
        "outputId": "ce6061d4-6019-49ff-d896-c4063e08b5b6"
      },
      "outputs": [
        {
          "output_type": "stream",
          "name": "stdout",
          "text": [
            "4\n",
            "4\n"
          ]
        }
      ],
      "source": [
        "def sesli_harf_sayisi(metin):\n",
        "    sesliler = \"aeıioöuü\"\n",
        "    metin = metin.lower()\n",
        "    sayac = 0\n",
        "    for harf in metin:\n",
        "        if harf in sesliler:\n",
        "            sayac += 1\n",
        "    return sayac\n",
        "\n",
        "print(sesli_harf_sayisi(\"programlama\"))  # Beklenen çıktı: 4\n",
        "print(sesli_harf_sayisi(\"algoritma\"))  # Beklenen çıktı: 4"
      ]
    },
    {
      "cell_type": "markdown",
      "id": "f61da9c2",
      "metadata": {
        "id": "f61da9c2"
      },
      "source": [
        "# Soru 4\n",
        "### İki sıralı listeyi tek bir sıralı liste olarak birleştiren ve hazır sıralama fonksiyonlarını kullanmayan `sirali_listeleri_birlestir` fonksiyonunu yazınız.\n",
        "\n",
        "### Fonksiyonunuzu test edin\n",
        "```python\n",
        "print(sirali_listeleri_birlestir([1, 3, 5], [2, 4, 6]))  # Beklenen çıktı: [1, 2, 3, 4, 5, 6]\n",
        "print(sirali_listeleri_birlestir([-3, 0, 7], [-1, 4, 10]))  # Beklenen çıktı: [-3, -1, 0, 4, 7, 10]\n",
        "```"
      ]
    },
    {
      "cell_type": "code",
      "execution_count": 21,
      "id": "284fd7c4",
      "metadata": {
        "colab": {
          "base_uri": "https://localhost:8080/"
        },
        "id": "284fd7c4",
        "outputId": "d0ba7484-b8f3-4ba5-8a74-1bcf0b9077d5"
      },
      "outputs": [
        {
          "output_type": "stream",
          "name": "stdout",
          "text": [
            "[1, 2, 3, 4, 5, 6]\n",
            "[-3, -1, 0, 4, 7, 10]\n"
          ]
        }
      ],
      "source": [
        "def sirali_listeleri_birlestir(liste1, liste2):\n",
        "    birlesik = []\n",
        "    i = j = 0\n",
        "\n",
        "    while i < len(liste1) and j < len(liste2):\n",
        "        if liste1[i] < liste2[j]:\n",
        "            birlesik.append(liste1[i])\n",
        "            i += 1\n",
        "        else:\n",
        "            birlesik.append(liste2[j])\n",
        "            j += 1\n",
        "\n",
        "    while i < len(liste1):\n",
        "        birlesik.append(liste1[i])\n",
        "        i += 1\n",
        "\n",
        "    while j < len(liste2):\n",
        "        birlesik.append(liste2[j])\n",
        "        j += 1\n",
        "\n",
        "    return birlesik\n",
        "\n",
        "print(sirali_listeleri_birlestir([1, 3, 5], [2, 4, 6]))  # Beklenen çıktı: [1, 2, 3, 4, 5, 6]\n",
        "print(sirali_listeleri_birlestir([-3, 0, 7], [-1, 4, 10]))  # Beklenen çıktı: [-3, -1, 0, 4, 7, 10]"
      ]
    },
    {
      "cell_type": "markdown",
      "id": "4987ac27",
      "metadata": {
        "id": "4987ac27"
      },
      "source": [
        "# Soru 5\n",
        "### Sıralı bir listede ikili arama algoritmasını kullanarak verilen elemanın indeksini bulan (eğer eleman listede yoksa -1 dönen) `ikili_arama` fonksiyonunu yazınız.\n",
        "\n",
        "### Fonksiyonunuzu test edin\n",
        "```python\n",
        "print(ikili_arama([1, 3, 5, 7, 9, 11], 7))  # Beklenen çıktı: 3\n",
        "print(ikili_arama([2, 4, 6, 8, 10], 5))  # Beklenen çıktı: -1\n",
        "```"
      ]
    },
    {
      "cell_type": "code",
      "execution_count": 22,
      "id": "0320ee58",
      "metadata": {
        "colab": {
          "base_uri": "https://localhost:8080/"
        },
        "id": "0320ee58",
        "outputId": "0d46c334-b481-4c86-de26-a552f654524c"
      },
      "outputs": [
        {
          "output_type": "stream",
          "name": "stdout",
          "text": [
            "3\n",
            "-1\n"
          ]
        }
      ],
      "source": [
        "def ikili_arama(liste, hedef):\n",
        "    sol = 0\n",
        "    sag = len(liste) - 1\n",
        "\n",
        "    while sol <= sag:\n",
        "        orta = (sol + sag) // 2\n",
        "        if liste[orta] == hedef:\n",
        "            return orta\n",
        "        elif liste[orta] < hedef:\n",
        "            sol = orta + 1\n",
        "        else:\n",
        "            sag = orta - 1\n",
        "\n",
        "    return -1\n",
        "\n",
        "print(ikili_arama([1, 3, 5, 7, 9, 11], 7))  # Beklenen çıktı: 3\n",
        "print(ikili_arama([2, 4, 6, 8, 10], 5))  # Beklenen çıktı: -1\n"
      ]
    }
  ],
  "metadata": {
    "colab": {
      "provenance": []
    },
    "language_info": {
      "name": "python"
    },
    "kernelspec": {
      "name": "python3",
      "display_name": "Python 3"
    }
  },
  "nbformat": 4,
  "nbformat_minor": 5
}
